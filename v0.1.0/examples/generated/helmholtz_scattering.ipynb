{
 "cells": [
  {
   "outputs": [],
   "cell_type": "code",
   "source": [
    "# Environment setup\n",
    "const DEPENDENCIES = [\"GLMakie\", \"Gmsh\", \"HMatrices\", \"IterativeSolvers\",\"LinearAlgebra\", \"LinearMaps\", \"SpecialFunctions\", \"GSL\", \"Meshes\"];\n",
    "import Pkg\n",
    "Pkg.activate(temp=true)\n",
    "Pkg.add(url=\"https://github.com/IntegralEquations/Inti.jl\", rev=\"c0f6a50b9f5c3dafffe5af20cbf6a0e5246e0a8c\")\n",
    "foreach(Pkg.add, DEPENDENCIES)"
   ],
   "metadata": {},
   "execution_count": null
  },
  {
   "cell_type": "markdown",
   "source": [
    "# Helmholtz scattering"
   ],
   "metadata": {}
  },
  {
   "cell_type": "markdown",
   "source": [
    "!!! note \"Important points covered in this example\"\n",
    "      - Creating a geometry using the *Gmsh* API\n",
    "      - Assembling integral operators and integral potentials\n",
    "      - Setting up a sound-soft problem in both 2 and 3 spatial dimensions\n",
    "      - Using *GMRES* to solve the linear system\n",
    "      - Exporting the solution to *Gmsh* for visualization"
   ],
   "metadata": {}
  },
  {
   "cell_type": "markdown",
   "source": [
    "In this tutorial we will show how to solve an acoustic scattering problem in\n",
    "the context of Helmholtz equation. We will focus on a *smooth* sound-soft\n",
    "obstacle for simplicity, and introduce along the way the necessary techniques\n",
    "used to handle some difficulties encountered. We will use various packages\n",
    "throughout this example (including of course `Inti.jl`); if they are not on\n",
    "your environment, you can install them using `] add <package>` in the REPL."
   ],
   "metadata": {}
  },
  {
   "cell_type": "markdown",
   "source": [
    "In the following section, we will provide a brief\n",
    "mathematical description of the problem (valid in both $2$ and $3$\n",
    "dimensions). We will tackle the [two-dimensional problem](@ref\n",
    "helmholtz-scattering-2d) first, for which we do not need to worry much about\n",
    "performance issues (e.g. compressing the integral operators). Finally, we\n",
    "present a three-dimensional example, where we\n",
    "will use [`HMatrices.jl`](https://github.com/IntegralEquatins/HMatrices.jl) to\n",
    "compress the underlying integral operators."
   ],
   "metadata": {}
  },
  {
   "cell_type": "markdown",
   "source": [
    "## Sound-soft problem"
   ],
   "metadata": {}
  },
  {
   "cell_type": "markdown",
   "source": [
    "This example concerns the sound-soft acoustic scattering problem.\n",
    "Mathematically, this means solving an exterior problem governed by Helmholtz\n",
    "equation (time-harmonic acoustics) with a Dirichlet boundary condition. More\n",
    "precisely, letting $\\Omega \\subset \\mathbb{R}^d$ be a bounded domain, and denoting\n",
    "by $\\Gamma = \\partial \\Omega$ its boundary, we wish to solve"
   ],
   "metadata": {}
  },
  {
   "cell_type": "markdown",
   "source": [
    "$$\n",
    "    \\Delta u + k^2 u = 0 \\quad \\text{on} \\quad \\mathbb{R}^d \\setminus \\bar{\\Omega},\n",
    "$$"
   ],
   "metadata": {}
  },
  {
   "cell_type": "markdown",
   "source": [
    "subject to Dirichlet boundary conditions on $\\Gamma$"
   ],
   "metadata": {}
  },
  {
   "cell_type": "markdown",
   "source": [
    "$$\n",
    "    u(\\boldsymbol{x}) = g(\\boldsymbol{x}) \\quad \\text{for} \\quad \\boldsymbol{x} \\in \\Gamma.\n",
    "$$"
   ],
   "metadata": {}
  },
  {
   "cell_type": "markdown",
   "source": [
    "and the *Sommerfeld radiation condition* at infinity"
   ],
   "metadata": {}
  },
  {
   "cell_type": "markdown",
   "source": [
    "$$\n",
    "    \\lim_{|\\boldsymbol{x}| \\to \\infty} |\\boldsymbol{x}|^{(d-1)/2} \\left( \\frac{\\partial u}{\\partial |\\boldsymbol{x}|} - i k u \\right) = 0.\n",
    "$$"
   ],
   "metadata": {}
  },
  {
   "cell_type": "markdown",
   "source": [
    "Here $g$ is a (given) boundary datum, and $k$ is the constant wavenumber."
   ],
   "metadata": {}
  },
  {
   "cell_type": "markdown",
   "source": [
    "For simplicity, we will take $\\Gamma$ circle/sphere, and focus on the\n",
    "*plane-wave scattering* problem. This means we will seek a solution $u$ of\n",
    "the form $u = u_s + u_i$, where $u_i$ is a known incident field, and\n",
    "$u_s$ is the scattered field we wish to compute."
   ],
   "metadata": {}
  },
  {
   "cell_type": "markdown",
   "source": [
    "!!! note \"Complex geometries\"\n",
    "      The main reason for focusing on such a simple example is twofold. First,\n",
    "      it alleviates the complexities associated with the mesh generation. Second,\n",
    "      since exact solutions are known for this problem (in the form of a series),\n",
    "      it is easy to assess the accuracy of the solution obtained. In practice, you\n",
    "      can use the same techniques to solve the problem on more complex geometries\n",
    "      by providing a `.msh` file containing the mesh."
   ],
   "metadata": {}
  },
  {
   "cell_type": "markdown",
   "source": [
    "Using the theory of boundary integral equations, we can express $u_s$ as\n",
    "\n",
    "$$\n",
    "    u_s(\\boldsymbol{r}) = \\mathcal{D}[\\sigma](\\boldsymbol{r}) - i k \\mathcal{S}[\\sigma](\\boldsymbol{r}),\n",
    "$$\n",
    "\n",
    "where $\\mathcal{S}$ is the so-called single layer potential, $\\mathcal{D}$\n",
    "is the double-layer potential, and $\\sigma : \\Gamma \\to \\mathbb{C}$ is a\n",
    "surface density. This is an indirect formulation (because $\\sigma$ is an\n",
    "*auxiliary* density, not necessarily physical) commonly referred to as a\n",
    "*combined field formulation*. Taking the limit $\\mathbb{R}^d \\setminus \\bar\n",
    "\\Omega \\ni x \\to \\Gamma$, it can be shown that the following equation holds\n",
    "on $\\Gamma$:\n",
    "\n",
    "$$\n",
    "    \\left( \\frac{\\mathrm{I}}{2} + \\mathrm{D} - i k \\mathrm{S} \\right)[\\sigma] = g,\n",
    "$$\n",
    "\n",
    "where $\\mathrm{I}$ is the identity operator, and $\\mathrm{S}$ and $\\mathrm{D}$\n",
    "are the single- and double-layer operators. This is the **combined field\n",
    "integral equation** that we will solve. The boundary data $g$ is obtained by\n",
    "applying the sound-soft condition $u=0$ on $\\Gamma$, from which it readily\n",
    "follows that $u_s = -u_i$ on $\\Gamma$.\n",
    "\n",
    "We are now have the necessary background to solve this problem in both 2 and 3\n",
    "spatial dimensions. Let's load `Inti.jl` as well as the required dependencies"
   ],
   "metadata": {}
  },
  {
   "outputs": [],
   "cell_type": "code",
   "source": [
    "using Inti\n",
    "using LinearAlgebra\n",
    "using StaticArrays\n",
    "using Gmsh\n",
    "using Meshes\n",
    "using GLMakie\n",
    "using SpecialFunctions\n",
    "using GSL\n",
    "using IterativeSolvers\n",
    "using LinearMaps"
   ],
   "metadata": {},
   "execution_count": null
  },
  {
   "cell_type": "markdown",
   "source": [
    "and setup some of the (global) problem parameters:"
   ],
   "metadata": {}
  },
  {
   "outputs": [],
   "cell_type": "code",
   "source": [
    "k      = 4π\n",
    "λ      = 2π / k\n",
    "qorder = 4 # quadrature order\n",
    "gorder = 2 # order of geometrical approximation\n",
    "nothing #hide"
   ],
   "metadata": {},
   "execution_count": null
  },
  {
   "cell_type": "markdown",
   "source": [
    "## Two-dimensional scattering"
   ],
   "metadata": {}
  },
  {
   "cell_type": "markdown",
   "source": [
    "We will use [Gmsh\n",
    "API](https://gmsh.info/doc/texinfo/gmsh.html#Gmsh-application-programming-interface)\n",
    "for creating `.msh` file containing the desired geometry and mesh. Here is a\n",
    "function to mesh the circle:"
   ],
   "metadata": {}
  },
  {
   "outputs": [],
   "cell_type": "code",
   "source": [
    "function gmsh_circle(; name, meshsize, order = 1, radius = 1, center = (0, 0))\n",
    "    try\n",
    "        gmsh.initialize()\n",
    "        gmsh.model.add(\"circle-mesh\")\n",
    "        gmsh.option.setNumber(\"Mesh.MeshSizeMax\", meshsize)\n",
    "        gmsh.option.setNumber(\"Mesh.MeshSizeMin\", meshsize)\n",
    "        gmsh.model.occ.addDisk(center[1], center[2], 0, radius, radius)\n",
    "        gmsh.model.occ.synchronize()\n",
    "        gmsh.model.mesh.generate(1)\n",
    "        gmsh.model.mesh.setOrder(order)\n",
    "        gmsh.write(name)\n",
    "    finally\n",
    "        gmsh.finalize()\n",
    "    end\n",
    "end\n",
    "nothing #hide"
   ],
   "metadata": {},
   "execution_count": null
  },
  {
   "cell_type": "markdown",
   "source": [
    "Let us now use `gmsh_circle` to create a `circle.msh` file. As customary in\n",
    "wave-scattering problems, we will choose a mesh size that is proportional to\n",
    "wavelength:"
   ],
   "metadata": {}
  },
  {
   "outputs": [],
   "cell_type": "code",
   "source": [
    "name = joinpath(@__DIR__, \"circle.msh\")\n",
    "meshsize = λ / 5\n",
    "gmsh_circle(; meshsize, order = gorder, name)\n",
    "nothing #hide"
   ],
   "metadata": {},
   "execution_count": null
  },
  {
   "cell_type": "markdown",
   "source": [
    "We can now import the file and parse the mesh and domain information into\n",
    "`Inti.jl` using the `import_mesh` function:"
   ],
   "metadata": {}
  },
  {
   "outputs": [],
   "cell_type": "code",
   "source": [
    "Inti.clear_entities!() # empty the entity cache\n",
    "msh = Inti.import_mesh(name; dim = 2)"
   ],
   "metadata": {},
   "execution_count": null
  },
  {
   "cell_type": "markdown",
   "source": [
    "The code above will import the mesh with all of its geometrical entities. The\n",
    "`dim=2` projects all points to two dimensions by ignoring the third\n",
    "component. To extract the domain $\\Omega$ we need to filter the entities in\n",
    "the mesh; here we will simply filter them based on the `geometric_dimension`:"
   ],
   "metadata": {}
  },
  {
   "outputs": [],
   "cell_type": "code",
   "source": [
    "Ω = Inti.Domain(e -> Inti.geometric_dimension(e) == 2, Inti.entities(msh))"
   ],
   "metadata": {},
   "execution_count": null
  },
  {
   "cell_type": "markdown",
   "source": [
    "To solve our boundary integral equation usign a Nyström method, we actually\n",
    "need a quadrature of our curve/surface (and possibly the normal vectors at the\n",
    "quadrature nodes). Once a mesh is available, creating a quadrature object can\n",
    "be done via the `Quadrature` constructor, which\n",
    "requires passing a mesh of the domain that one wishes to generate a quadrature\n",
    "for:"
   ],
   "metadata": {}
  },
  {
   "outputs": [],
   "cell_type": "code",
   "source": [
    "Γ = Inti.boundary(Ω)\n",
    "Γ_msh = view(msh, Γ)\n",
    "Q = Inti.Quadrature(Γ_msh; qorder)\n",
    "nothing #hide"
   ],
   "metadata": {},
   "execution_count": null
  },
  {
   "cell_type": "markdown",
   "source": [
    "!!! tip \"Views of a mesh\"\n",
    "      In `Inti.jl`, you can use domain to create a *view* of a mesh containing *only\n",
    "      the elements in the domain*. For example `view(msh,Γ)` will return an\n",
    "      `SubMesh` type that you can use to iterate over the elements in the boundary\n",
    "      of the disk without actually creating a new mesh. You can use `msh[Γ]`,\n",
    "      or `collect(view(msh,Γ))` to create a new mesh containing *only* the\n",
    "      elements and nodes in `Γ`."
   ],
   "metadata": {}
  },
  {
   "cell_type": "markdown",
   "source": [
    "The object `Q` now contains a quadrature (of order `4`) that can be used to\n",
    "solve a boundary integral equation on `Γ`. As a sanity check, let's make sure\n",
    "integrating the function `x->1` over `Q` gives an approximation to the\n",
    "perimeter:"
   ],
   "metadata": {}
  },
  {
   "outputs": [],
   "cell_type": "code",
   "source": [
    "@assert abs(Inti.integrate(x -> 1, Q) - 2π) < 1e-5 #hide\n",
    "abs(Inti.integrate(x -> 1, Q) - 2π)"
   ],
   "metadata": {},
   "execution_count": null
  },
  {
   "cell_type": "markdown",
   "source": [
    "With the `Quadrature` constructed, we now can define\n",
    "discrete approximation to the integral operators $\\mathrm{S}$ and\n",
    "$\\mathrm{D}$ as follows:"
   ],
   "metadata": {}
  },
  {
   "outputs": [],
   "cell_type": "code",
   "source": [
    "pde = Inti.Helmholtz(; k, dim = 2)\n",
    "S, D = Inti.single_double_layer(;\n",
    "    pde,\n",
    "    target = Q,\n",
    "    source = Q,\n",
    "    compression = (method = :none,),\n",
    "    correction = (method = :dim,),\n",
    ")\n",
    "nothing #hide"
   ],
   "metadata": {},
   "execution_count": null
  },
  {
   "cell_type": "markdown",
   "source": [
    "There are two well-known difficulties related to the discretization of\n",
    "the boundary integral operators $S$ and $D$:\n",
    "- The kernel of the integral operator is not smooth, and thus specialized\n",
    "  quadrature rules are required to accurately approximate the matrix entries for\n",
    "  which the target and source point lie *close* (relative to some scale) to each\n",
    "  other.\n",
    "- The underlying matrix is dense, and thus the storage and computational cost\n",
    "  of the operator is prohibitive for large problems unless acceleration\n",
    "  techniques such as *Fast Multipole Methods* or *Hierarchical Matrices* are\n",
    "  employed."
   ],
   "metadata": {}
  },
  {
   "cell_type": "markdown",
   "source": [
    "`Inti.jl` tries to provide a modular and transparent interface for dealing\n",
    "with both of these difficulties, where the general approach for solving a BIE\n",
    "will be to first construct a (possible compressed) naive representation of the\n",
    "integral operator where singular and nearly-singular integrals are ignored,\n",
    "followed by a the creation of a (sparse) correction intended to account for\n",
    "such singular interactions. See [`single_double_layer`](@ref\n",
    "Inti.single_double_layer) for more details on the various options available."
   ],
   "metadata": {}
  },
  {
   "cell_type": "markdown",
   "source": [
    "We can now combine `S` and `D` to form the combined-field operator:"
   ],
   "metadata": {}
  },
  {
   "outputs": [],
   "cell_type": "code",
   "source": [
    "L = I / 2 + D - im * k * S\n",
    "nothing #hide"
   ],
   "metadata": {},
   "execution_count": null
  },
  {
   "cell_type": "markdown",
   "source": [
    "where `I` is the identity matrix. Assuming an incident field along the $x_1$\n",
    "direction of the form $u_i =e^{ikx_1}$, the right-hand side of the equation\n",
    "can be construted using:"
   ],
   "metadata": {}
  },
  {
   "outputs": [],
   "cell_type": "code",
   "source": [
    "uᵢ = x -> exp(im * k * x[1]) # plane-wave incident field\n",
    "rhs = map(Q) do q\n",
    "    x = q.coords\n",
    "    return -uᵢ(x)\n",
    "end\n",
    "nothing #hide"
   ],
   "metadata": {},
   "execution_count": null
  },
  {
   "cell_type": "markdown",
   "source": [
    "!!! note \"Iterating over a quadrature\"\n",
    "      In computing `rhs` above, we used `map` to evaluate the incident field at\n",
    "      all quadrature nodes. When iterating over `Q`, the iterator returns a\n",
    "      `QuadratureNode`, and not simply the\n",
    "      *coordinate* of the quadrature node. This is so that you can access\n",
    "      additional information, such as the `normal` vector, at the quadrature node."
   ],
   "metadata": {}
  },
  {
   "cell_type": "markdown",
   "source": [
    "We can now solve the integral equation using e.g. the backslash operator:"
   ],
   "metadata": {}
  },
  {
   "outputs": [],
   "cell_type": "code",
   "source": [
    "σ = L \\ rhs\n",
    "nothing #hide"
   ],
   "metadata": {},
   "execution_count": null
  },
  {
   "cell_type": "markdown",
   "source": [
    "The variable `σ` contains the value of the approximate density at the\n",
    "quadrature nodes. To reconstruct a continuous approximation to the solution,\n",
    "we can use [`single_double_layer_potential`](@ref\n",
    "Inti.single_double_layer_potential) to obtain the single- and double-layer\n",
    "potentials, and then combine them as follows:"
   ],
   "metadata": {}
  },
  {
   "outputs": [],
   "cell_type": "code",
   "source": [
    "𝒮, 𝒟 = Inti.single_double_layer_potential(; pde, source = Q)\n",
    "uₛ   = x -> 𝒟[σ](x) - im * k * 𝒮[σ](x)\n",
    "nothing #hide"
   ],
   "metadata": {},
   "execution_count": null
  },
  {
   "cell_type": "markdown",
   "source": [
    "The variable `uₛ` is an anonymous/lambda function representing the approximate\n",
    "scattered field."
   ],
   "metadata": {}
  },
  {
   "cell_type": "markdown",
   "source": [
    "To assess the accuracy of the solution, we can compare it to the exact\n",
    "solution (obtained by separation of variables in polar coordinates):"
   ],
   "metadata": {}
  },
  {
   "outputs": [],
   "cell_type": "code",
   "source": [
    "function circle_helmholtz_soundsoft(pt; radius = 1, k, θin)\n",
    "    x = pt[1]\n",
    "    y = pt[2]\n",
    "    r = sqrt(x^2 + y^2)\n",
    "    θ = atan(y, x)\n",
    "    u = 0.0\n",
    "    r < radius && return u\n",
    "    c(n) = -exp(im * n * (π / 2 - θin)) * besselj(n, k * radius) / besselh(n, k * radius)\n",
    "    u    = c(0) * besselh(0, k * r)\n",
    "    n    = 1\n",
    "    while (abs(c(n)) > 1e-12)\n",
    "        u +=\n",
    "            c(n) * besselh(n, k * r) * exp(im * n * θ) +\n",
    "            c(-n) * besselh(-n, k * r) * exp(-im * n * θ)\n",
    "        n += 1\n",
    "    end\n",
    "    return u\n",
    "end\n",
    "nothing #hide"
   ],
   "metadata": {},
   "execution_count": null
  },
  {
   "cell_type": "markdown",
   "source": [
    "Here is the maximum error on some points located on a circle of radius `2`:"
   ],
   "metadata": {}
  },
  {
   "outputs": [],
   "cell_type": "code",
   "source": [
    "uₑ = x -> circle_helmholtz_soundsoft(x; k, radius = 1, θin = 0) # exact solution\n",
    "er = maximum(0:0.01:2π) do θ\n",
    "    R = 2\n",
    "    x = (R * cos(θ), R * sin(θ))\n",
    "    return abs(uₛ(x) - uₑ(x))\n",
    "end\n",
    "@assert er < 1e-3 #hide\n",
    "@info \"maximum error = $er\""
   ],
   "metadata": {},
   "execution_count": null
  },
  {
   "cell_type": "markdown",
   "source": [
    "As we can see, the error is quite small! Let's use `Makie` to visualize the solution in this\n",
    "simple (2d) example:"
   ],
   "metadata": {}
  },
  {
   "outputs": [],
   "cell_type": "code",
   "source": [
    "xx = yy = range(-4; stop = 4, length = 200)\n",
    "vals =\n",
    "    map(pt -> Inti.isinside(pt, Q) ? NaN : real(uₛ(pt) + uᵢ(pt)), Iterators.product(xx, yy))\n",
    "fig, ax, hm = heatmap(\n",
    "    xx,\n",
    "    yy,\n",
    "    vals;\n",
    "    colormap = :inferno,\n",
    "    interpolate = true,\n",
    "    axis = (aspect = DataAspect(), xgridvisible = false, ygridvisible = false),\n",
    ")\n",
    "viz!(Γ_msh; color = :white, segmentsize = 5)\n",
    "Colorbar(fig[1, 2], hm)\n",
    "fig"
   ],
   "metadata": {},
   "execution_count": null
  },
  {
   "cell_type": "markdown",
   "source": [
    "While here we simply used a heatmap to visualize the solution, more complex\n",
    "problems may require a mesh-based visualization, where we would first create a\n",
    "mesh for the places where we want to visualize the solution."
   ],
   "metadata": {}
  },
  {
   "cell_type": "markdown",
   "source": [
    "Before moving on to the 3D example let us simply mention that, besides the\n",
    "fact that an analytic solution was available for comparisson, there was\n",
    "nothing special about the unit disk (or the use of GMSH). We could have, for\n",
    "instance, replaced the disk by shapes created parametrically:"
   ],
   "metadata": {}
  },
  {
   "outputs": [],
   "cell_type": "code",
   "source": [
    "# vertices of an equilateral triangle centered at the origin with a vertex at (0,1)\n",
    "a, b, c = SVector(0, 1), SVector(sqrt(3) / 2, -1 / 2), SVector(-sqrt(3) / 2, -1 / 2)\n",
    "circle_f(center, radius) = s -> center + radius * SVector(cospi(2 * s[1]), sinpi(2 * s[1]))\n",
    "disk1 = Inti.parametric_curve(circle_f(a, 1 / 2), 0, 1)\n",
    "disk2 = Inti.parametric_curve(circle_f(b, 1 / 2), 0, 1)\n",
    "disk3 = Inti.parametric_curve(circle_f(c, 1 / 2), 0, 1)\n",
    "Γ = disk1 ∪ disk2 ∪ disk3\n",
    "msh = Inti.meshgen(Γ; meshsize)\n",
    "Γ_msh = view(msh, Γ)\n",
    "Q = Inti.Quadrature(Γ_msh; qorder)\n",
    "S, D = Inti.single_double_layer(;\n",
    "    pde,\n",
    "    target = Q,\n",
    "    source = Q,\n",
    "    compression = (method = :none,),\n",
    "    correction = (method = :dim,),\n",
    ")\n",
    "L = I / 2 + D - im * k * S\n",
    "rhs = map(q -> -uᵢ(q.coords), Q)\n",
    "σ = L \\ rhs\n",
    "𝒮, 𝒟 = Inti.single_double_layer_potential(; pde, source = Q)\n",
    "uₛ = x -> 𝒟[σ](x) - im * k * 𝒮[σ](x)\n",
    "vals =\n",
    "    map(pt -> Inti.isinside(pt, Q) ? NaN : real(uₛ(pt) + uᵢ(pt)), Iterators.product(xx, yy))\n",
    "colorrange = (-2, 2)\n",
    "fig, ax, hm = heatmap(\n",
    "    xx,\n",
    "    yy,\n",
    "    vals;\n",
    "    colormap = :inferno,\n",
    "    colorrange,\n",
    "    interpolate = true,\n",
    "    axis = (aspect = DataAspect(), xgridvisible = false, ygridvisible = false),\n",
    ")\n",
    "viz!(Γ_msh; color = :black, segmentsize = 4)\n",
    "Colorbar(fig[1, 2], hm)\n",
    "fig"
   ],
   "metadata": {},
   "execution_count": null
  },
  {
   "cell_type": "markdown",
   "source": [
    "!!! note \"Near-field evaluation\"\n",
    "    In the example above we employed a naive evaluation of the integral\n",
    "    potentials, and therefore the computed solution is expected to become\n",
    "    innacurate near the obstacles. See the [layer potential tutorial](@ref\n",
    "    \"Layer potentials\") for more information on how to correct for this."
   ],
   "metadata": {}
  },
  {
   "cell_type": "markdown",
   "source": [
    "## Three-dimensional scattering\n",
    "\n",
    "We now consider the same problem in 3D. Unlike the 2D case, assembling dense\n",
    "matrix representations of the integral operators quickly becomes unfeasiable\n",
    "as the problem size increases. `Inti` adds support for compressing the\n",
    "underlying linear operators by wrapping external libraries. In this example,\n",
    "we will rely on [`HMatrices.jl`](https://github.com/WaveProp/HMatrices.jl) to\n",
    "handle the compression."
   ],
   "metadata": {}
  },
  {
   "cell_type": "markdown",
   "source": [
    "The visualization is also more involved, and we will use the `Gmsh` API to\n",
    "create a not only a mesh of the scatterer, but also of a punctured plane where\n",
    "we will visualize the solution. Here is the function that setups up the mesh:"
   ],
   "metadata": {}
  },
  {
   "outputs": [],
   "cell_type": "code",
   "source": [
    "function gmsh_sphere(; meshsize, order = gorder, radius = 1, visualize = false, name)\n",
    "    gmsh.initialize()\n",
    "    gmsh.model.add(\"sphere-scattering\")\n",
    "    gmsh.option.setNumber(\"Mesh.MeshSizeMax\", meshsize)\n",
    "    gmsh.option.setNumber(\"Mesh.MeshSizeMin\", meshsize)\n",
    "    sphere_tag = gmsh.model.occ.addSphere(0, 0, 0, radius)\n",
    "    xl, yl, zl = -2 * radius, -2 * radius, 0\n",
    "    Δx, Δy = 4 * radius, 4 * radius\n",
    "    rectangle_tag = gmsh.model.occ.addRectangle(xl, yl, zl, Δx, Δy)\n",
    "    outDimTags, _ =\n",
    "        gmsh.model.occ.cut([(2, rectangle_tag)], [(3, sphere_tag)], -1, true, false)\n",
    "    gmsh.model.occ.synchronize()\n",
    "    gmsh.model.addPhysicalGroup(3, [sphere_tag], -1, \"omega\")\n",
    "    gmsh.model.addPhysicalGroup(2, [dt[2] for dt in outDimTags], -1, \"sigma\")\n",
    "    gmsh.model.mesh.generate(2)\n",
    "    gmsh.model.mesh.setOrder(order)\n",
    "    visualize && gmsh.fltk.run()\n",
    "    gmsh.option.setNumber(\"Mesh.SaveAll\", 1) # otherwise only the physical groups are saved\n",
    "    gmsh.write(name)\n",
    "    return gmsh.finalize()\n",
    "end\n",
    "nothing #hide"
   ],
   "metadata": {},
   "execution_count": null
  },
  {
   "cell_type": "markdown",
   "source": [
    "As before, lets write a file with our mesh, and import it into `Inti.jl`:"
   ],
   "metadata": {}
  },
  {
   "outputs": [],
   "cell_type": "code",
   "source": [
    "name = joinpath(@__DIR__, \"sphere.msh\")\n",
    "gmsh_sphere(; meshsize, order = gorder, name, visualize = false)\n",
    "msh = Inti.import_mesh(name; dim = 3)"
   ],
   "metadata": {},
   "execution_count": null
  },
  {
   "cell_type": "markdown",
   "source": [
    "!!! tip\n",
    "      If you pass `visualize=true` to `gmsh_sphere`, it will open a window\n",
    "      with the current model. This is done by calling `gmsh.fltk.run()`. Note\n",
    "      that the main julia thread will be blocked until the window is closed."
   ],
   "metadata": {}
  },
  {
   "cell_type": "markdown",
   "source": [
    "Since we created physical groups in `Gmsh`, we can use them to extract the\n",
    "relevant domains `Ω` and `Σ`:"
   ],
   "metadata": {}
  },
  {
   "outputs": [],
   "cell_type": "code",
   "source": [
    "Ω = Inti.Domain(e -> \"omega\" ∈ Inti.labels(e), Inti.entities(msh))\n",
    "Σ = Inti.Domain(e -> \"sigma\" ∈ Inti.labels(e), Inti.entities(msh))\n",
    "Γ = Inti.boundary(Ω)\n",
    "nothing #hide"
   ],
   "metadata": {},
   "execution_count": null
  },
  {
   "cell_type": "markdown",
   "source": [
    "We can now create a quadrature as before"
   ],
   "metadata": {}
  },
  {
   "outputs": [],
   "cell_type": "code",
   "source": [
    "Γ_msh = view(msh, Γ)\n",
    "Q = Inti.Quadrature(Γ_msh; qorder)\n",
    "nothing #hide"
   ],
   "metadata": {},
   "execution_count": null
  },
  {
   "cell_type": "markdown",
   "source": [
    "!!! tip \"Writing/reading a mesh from disk\"\n",
    "      Writing and reading a mesh to/from disk can be time consuming. You can\n",
    "      avoid doing so by using `import_mesh` without a\n",
    "      file name to import the mesh from the current `gmsh` session without the\n",
    "      need to write it to disk."
   ],
   "metadata": {}
  },
  {
   "cell_type": "markdown",
   "source": [
    "Next we assemble the integral operators, indicating that we wish to compress\n",
    "them using hierarchical matrices:"
   ],
   "metadata": {}
  },
  {
   "outputs": [],
   "cell_type": "code",
   "source": [
    "using HMatrices\n",
    "pde = Inti.Helmholtz(; k, dim = 3)\n",
    "S, D = Inti.single_double_layer(;\n",
    "    pde,\n",
    "    target = Q,\n",
    "    source = Q,\n",
    "    compression = (method = :hmatrix, tol = 1e-4),\n",
    "    correction = (method = :dim,),\n",
    ")\n",
    "nothing #hide"
   ],
   "metadata": {},
   "execution_count": null
  },
  {
   "cell_type": "markdown",
   "source": [
    "Here is how much memory it would take to store the dense representation of\n",
    "these matrices:"
   ],
   "metadata": {}
  },
  {
   "outputs": [],
   "cell_type": "code",
   "source": [
    "mem = 2 * length(S) * 16 / 1e9 # 16 bytes per complex number, 1e9 bytes per GB, two matrices\n",
    "println(\"memory required to store S and D: $(mem) GB\")"
   ],
   "metadata": {},
   "execution_count": null
  },
  {
   "cell_type": "markdown",
   "source": [
    "Even for this simple example, the dense representation of the integral\n",
    "operators as matrix is already quite expensive!"
   ],
   "metadata": {}
  },
  {
   "cell_type": "markdown",
   "source": [
    "!!! note \"Compression methods\"\n",
    "    It is worth mentioning that hierchical matrices are not the only way to\n",
    "    compress such integral operators, and may in fact not even be the best for\n",
    "    the problem at hand. For example, one could use a fast multipole method\n",
    "    (FMM), which has a much lighter memory footprint. See the the tutorial on\n",
    "    compression methods for more information."
   ],
   "metadata": {}
  },
  {
   "cell_type": "markdown",
   "source": [
    "We will use the generalized minimal residual (GMRES) iterative solver, for the\n",
    "linear system. This requires us to define a linear operator `L`, approximating\n",
    "the combined-field operator, that supports the matrix-vector product. While it\n",
    "is possible to add two `HMatrix` objects to obtain a new `HMatrix`, this is\n",
    "somewhat more involved due to the addition of low-rank blocks (which requires\n",
    "a recompression). To keep things simple, we will use `LinearMaps` to lazily\n",
    "compose the operators:"
   ],
   "metadata": {}
  },
  {
   "outputs": [],
   "cell_type": "code",
   "source": [
    "L = I / 2 + LinearMap(D) - im * k * LinearMap(S)\n",
    "nothing #hide"
   ],
   "metadata": {},
   "execution_count": null
  },
  {
   "cell_type": "markdown",
   "source": [
    "We can now solve the linear system using GMRES solver:"
   ],
   "metadata": {}
  },
  {
   "outputs": [],
   "cell_type": "code",
   "source": [
    "rhs = map(Q) do q\n",
    "    x = q.coords\n",
    "    return -uᵢ(x)\n",
    "end\n",
    "σ, hist =\n",
    "    gmres(L, rhs; log = true, abstol = 1e-6, verbose = false, restart = 100, maxiter = 100)\n",
    "@show hist"
   ],
   "metadata": {},
   "execution_count": null
  },
  {
   "cell_type": "markdown",
   "source": [
    "As before, let us represent the solution using `IntegralPotential`s:"
   ],
   "metadata": {}
  },
  {
   "outputs": [],
   "cell_type": "code",
   "source": [
    "𝒮, 𝒟 = Inti.single_double_layer_potential(; pde, source = Q)\n",
    "uₛ = x -> 𝒟[σ](x) - im * k * 𝒮[σ](x)\n",
    "nothing #hide"
   ],
   "metadata": {},
   "execution_count": null
  },
  {
   "cell_type": "markdown",
   "source": [
    "To check the result, we compare against the exact solution obtained through a\n",
    "series:"
   ],
   "metadata": {}
  },
  {
   "outputs": [],
   "cell_type": "code",
   "source": [
    "sphbesselj(l, r) = sqrt(π / (2r)) * besselj(l + 1 / 2, r)\n",
    "sphbesselh(l, r) = sqrt(π / (2r)) * besselh(l + 1 / 2, r)\n",
    "sphharmonic(l, m, θ, ϕ) = GSL.sf_legendre_sphPlm(l, abs(m), cos(θ)) * exp(im * m * ϕ)\n",
    "function sphere_helmholtz_soundsoft(xobs; radius = 1, k = 1, θin = 0, ϕin = 0)\n",
    "    x = xobs[1]\n",
    "    y = xobs[2]\n",
    "    z = xobs[3]\n",
    "    r = sqrt(x^2 + y^2 + z^2)\n",
    "    θ = acos(z / r)\n",
    "    ϕ = atan(y, x)\n",
    "    u = 0.0\n",
    "    r < radius && return u\n",
    "    function c(l, m)\n",
    "        return -4π * im^l * sphharmonic(l, -m, θin, ϕin) * sphbesselj(l, k * radius) /\n",
    "               sphbesselh(l, k * radius)\n",
    "    end\n",
    "    l = 0\n",
    "    for l in 0:60\n",
    "        for m in -l:l\n",
    "            u += c(l, m) * sphbesselh(l, k * r) * sphharmonic(l, m, θ, ϕ)\n",
    "        end\n",
    "        l += 1\n",
    "    end\n",
    "    return u\n",
    "end\n",
    "nothing #hide"
   ],
   "metadata": {},
   "execution_count": null
  },
  {
   "cell_type": "markdown",
   "source": [
    "We will compute the error on some point on the sphere of radius `2`:"
   ],
   "metadata": {}
  },
  {
   "outputs": [],
   "cell_type": "code",
   "source": [
    "uₑ = (x) -> sphere_helmholtz_soundsoft(x; radius = 1, k = k, θin = π / 2, ϕin = 0)\n",
    "er = maximum(1:100) do _\n",
    "    x̂ = rand(Inti.Point3D) |> normalize # an SVector of unit norm\n",
    "    x = 2 * x̂\n",
    "    return abs(uₛ(x) - uₑ(x))\n",
    "end\n",
    "@assert er < 1e-3 #hide\n",
    "@info \"error with correction = $er\""
   ],
   "metadata": {},
   "execution_count": null
  },
  {
   "cell_type": "markdown",
   "source": [
    "We see that, once again, the approximation is quite accurate. Let us now\n",
    "visualize the solution on the punctured plane (which we labeled as \"sigma\").\n",
    "Since evaluating the integral representation of the solution at many points is\n",
    "expensive, we will use again use a method to accelerate the evaluation:"
   ],
   "metadata": {}
  },
  {
   "outputs": [],
   "cell_type": "code",
   "source": [
    "Σ_msh = view(msh, Σ)\n",
    "target = Inti.nodes(Σ_msh)\n",
    "\n",
    "S, D = Inti.single_double_layer(;\n",
    "    pde,\n",
    "    target,\n",
    "    source = Q,\n",
    "    compression = (method = :hmatrix, tol = 1e-4),\n",
    "    # correction for the nearfield (for visual purposes, set to `:none` to disable)\n",
    "    correction = (method = :dim, maxdist = meshsize, target_location = :outside),\n",
    ")\n",
    "\n",
    "ui_eval_msh = uᵢ.(target)\n",
    "us_eval_msh = D * σ - im * k * S * σ\n",
    "u_eval_msh = ui_eval_msh + us_eval_msh\n",
    "nothing #hide"
   ],
   "metadata": {},
   "execution_count": null
  },
  {
   "cell_type": "markdown",
   "source": [
    "Finalize, we use `Meshes.viz` to visualize the scattered field:"
   ],
   "metadata": {}
  },
  {
   "outputs": [],
   "cell_type": "code",
   "source": [
    "nv = length(Inti.nodes(Γ_msh))\n",
    "colorrange = extrema(real(u_eval_msh))\n",
    "colormap = :inferno\n",
    "fig = Figure(; size = (800, 500))\n",
    "ax = Axis3(fig[1, 1]; aspect = :data)\n",
    "viz!(Γ_msh; colorrange, colormap, color = zeros(nv), interpolate = true)\n",
    "viz!(Σ_msh; colorrange, colormap, color = real(u_eval_msh))\n",
    "cb = Colorbar(fig[1, 2]; label = \"real(u)\", colormap, colorrange)\n",
    "fig # hide"
   ],
   "metadata": {},
   "execution_count": null
  },
  {
   "cell_type": "markdown",
   "source": [
    "---\n",
    "\n",
    "*This notebook was generated using [Literate.jl](https://github.com/fredrikekre/Literate.jl).*"
   ],
   "metadata": {}
  }
 ],
 "nbformat_minor": 3,
 "metadata": {
  "language_info": {
   "file_extension": ".jl",
   "mimetype": "application/julia",
   "name": "julia",
   "version": "1.10.4"
  },
  "kernelspec": {
   "name": "julia-1.10",
   "display_name": "Julia 1.10.4",
   "language": "julia"
  }
 },
 "nbformat": 4
}
