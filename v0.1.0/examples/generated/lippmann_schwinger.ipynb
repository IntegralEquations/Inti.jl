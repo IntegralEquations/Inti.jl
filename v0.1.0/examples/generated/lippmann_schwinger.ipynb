{
 "cells": [
  {
   "cell_type": "markdown",
   "source": [
    "# Lippmann Schwinger Solver"
   ],
   "metadata": {}
  },
  {
   "cell_type": "markdown",
   "source": [
    "!!! note \"Important points covered in this example\"\n",
    "      - Using VDIM for volume integral operators\n",
    "      - Solving a volume integral equation"
   ],
   "metadata": {}
  },
  {
   "outputs": [],
   "cell_type": "code",
   "source": [
    "using Inti"
   ],
   "metadata": {},
   "execution_count": null
  },
  {
   "cell_type": "markdown",
   "source": [
    "## Problem definition"
   ],
   "metadata": {}
  },
  {
   "cell_type": "markdown",
   "source": [
    "In this example we will solve the Lippmann Schwinger Volume Integral Equation\n",
    "in a domain $\\Omega$:\n",
    "$$\n",
    "  \\begin{align}\n",
    "      u + k^2 \\mathcal{V}_k[(1 - \\eta) u] &= u^{\\textit{inc}}  \\quad \\text{in } \\Omega \\\\\n",
    "  \\end{align}\n",
    "$$\n",
    "where $u^{\\textit{inc}} : \\Omega \\to \\mathbb{C}$ is a given free-space Helmholtz\n",
    "solution."
   ],
   "metadata": {}
  },
  {
   "outputs": [],
   "cell_type": "code",
   "source": [
    "interpolation_order = 2 # `interpolation_order` corresponds to `n` in the VDIM paper\n",
    "qorder = Inti.Triangle_VR_interpolation_order_to_quadrature_order(interpolation_order)\n",
    "\n",
    "k₁ = 4π\n",
    "k₂ = 2π\n",
    "λ₁ = 2π / k₁\n",
    "λ₂ = 2π / k₂\n",
    "meshsize = min(λ₁, λ₂) / 7\n",
    "nothing # hide"
   ],
   "metadata": {},
   "execution_count": null
  },
  {
   "cell_type": "markdown",
   "source": [
    "!!! note \"Refraction Index Perturbation\"\n",
    "      A VIE with piecewise-constant refraction index perturbation $η$ can be\n",
    "      verified against a BIE formulation.  Generally, we will want to use a\n",
    "      VIE formulation for variable media e.g. `η = (x) -> 1 +\n",
    "      .7*exp(-40*(x[1]^2 + x[2]^2))`."
   ],
   "metadata": {}
  },
  {
   "outputs": [],
   "cell_type": "code",
   "source": [
    "η = (x) -> (k₂ / k₁)^2\n",
    "nothing # hide"
   ],
   "metadata": {},
   "execution_count": null
  },
  {
   "cell_type": "markdown",
   "source": [
    "## Meshing"
   ],
   "metadata": {}
  },
  {
   "cell_type": "markdown",
   "source": [
    "We now create the required meshes and quadratures for both $\\Omega$ and $\\Gamma$:"
   ],
   "metadata": {}
  },
  {
   "outputs": [],
   "cell_type": "code",
   "source": [
    "using Gmsh # this will trigger the loading of Inti's Gmsh extension\n",
    "\n",
    "function gmsh_disk(; name, meshsize, order = 1, center = (0, 0), paxis = (1, 1))\n",
    "    try\n",
    "        gmsh.initialize()\n",
    "        gmsh.option.setNumber(\"General.Terminal\", 0)\n",
    "        gmsh.model.add(\"circle-mesh\")\n",
    "        gmsh.option.setNumber(\"Mesh.MeshSizeMax\", meshsize)\n",
    "        gmsh.option.setNumber(\"Mesh.MeshSizeMin\", meshsize)\n",
    "        gmsh.model.occ.addDisk(center[1], center[2], 0, paxis[1], paxis[2])\n",
    "        gmsh.model.occ.synchronize()\n",
    "        gmsh.model.mesh.generate(2)\n",
    "        gmsh.model.mesh.setOrder(order)\n",
    "        gmsh.write(name)\n",
    "    finally\n",
    "        gmsh.finalize()\n",
    "    end\n",
    "end\n",
    "\n",
    "name = joinpath(@__DIR__, \"disk.msh\")\n",
    "gmsh_disk(; meshsize, order = 2, name)\n",
    "\n",
    "msh = Inti.import_mesh(name; dim = 2)\n",
    "Ω = Inti.Domain(e -> Inti.geometric_dimension(e) == 2, Inti.entities(msh))\n",
    "Γ = Inti.boundary(Ω)\n",
    "\n",
    "Ωₕ = view(msh, Ω)\n",
    "Γₕ = view(msh, Γ)"
   ],
   "metadata": {},
   "execution_count": null
  },
  {
   "cell_type": "markdown",
   "source": [
    "Use VDIM with the Vioreanu-Rokhlin quadrature rule"
   ],
   "metadata": {}
  },
  {
   "outputs": [],
   "cell_type": "code",
   "source": [
    "Q = Inti.VioreanuRokhlin(; domain = :triangle, order = qorder);\n",
    "dict = Dict(E => Q for E in Inti.element_types(Ωₕ))\n",
    "Γₕ_quad = Inti.Quadrature(Γₕ; qorder)\n",
    "Ωₕ_quad = Inti.Quadrature(Ωₕ, dict)"
   ],
   "metadata": {},
   "execution_count": null
  },
  {
   "cell_type": "markdown",
   "source": [
    "## Volume Integral Operators and Volume Integral Equations"
   ],
   "metadata": {}
  },
  {
   "outputs": [],
   "cell_type": "code",
   "source": [
    "using FMMLIB2D\n",
    "\n",
    "pde = Inti.Helmholtz(; dim = 2, k = k₁)"
   ],
   "metadata": {},
   "execution_count": null
  },
  {
   "cell_type": "markdown",
   "source": [
    "With quadratures constructed on the volume, we can define a discrete approximation\n",
    "to the volume integral operator $\\mathcal{V}$ using VDIM."
   ],
   "metadata": {}
  },
  {
   "outputs": [],
   "cell_type": "code",
   "source": [
    "V_d2d = Inti.volume_potential(;\n",
    "    pde,\n",
    "    target = Ωₕ_quad,\n",
    "    source = Ωₕ_quad,\n",
    "    compression = (method = :fmm, tol = 1e-7),\n",
    "    correction = (method = :dim, interpolation_order),\n",
    ")\n",
    "\n",
    "using LinearAlgebra\n",
    "using LinearMaps\n",
    "\n",
    "using SpecialFunctions\n",
    "uⁱ = (x) -> exp(im * k₁ * x[2]) # plane-wave incident field\n",
    "rhs = map(Ωₕ_quad) do q\n",
    "    x = q.coords\n",
    "    return uⁱ(x)\n",
    "end"
   ],
   "metadata": {},
   "execution_count": null
  },
  {
   "cell_type": "markdown",
   "source": [
    "The full VIO incorporates scalar point multiplication using the contrast\n",
    "function η, implemented as a composition of `LinearMap`"
   ],
   "metadata": {}
  },
  {
   "outputs": [],
   "cell_type": "code",
   "source": [
    "refr_map_d = map(Ωₕ_quad) do q\n",
    "    x = q.coords\n",
    "    return 1 - η(x)\n",
    "end\n",
    "apply_refr!(y, x) = y .= refr_map_d .* x\n",
    "Lη = LinearMap{ComplexF64}(apply_refr!, length(refr_map_d), length(refr_map_d))\n",
    "L = I + k₁^2 * V_d2d * Lη"
   ],
   "metadata": {},
   "execution_count": null
  },
  {
   "cell_type": "markdown",
   "source": [
    "The unknown volumetric field $u$:"
   ],
   "metadata": {}
  },
  {
   "outputs": [],
   "cell_type": "code",
   "source": [
    "using IterativeSolvers\n",
    "u, hist =\n",
    "    gmres(L, rhs; log = true, abstol = 1e-7, verbose = false, restart = 200, maxiter = 200)\n",
    "@show hist\n",
    "\n",
    "𝒱 = Inti.IntegralPotential(Inti.SingleLayerKernel(pde), Ωₕ_quad)"
   ],
   "metadata": {},
   "execution_count": null
  },
  {
   "cell_type": "markdown",
   "source": [
    "The representation formula gives the solution in $\\R^2 \\setminus \\Omega$:"
   ],
   "metadata": {}
  },
  {
   "outputs": [],
   "cell_type": "code",
   "source": [
    "uˢ = (x) -> uⁱ(x) - k₁^2 * 𝒱[refr_map_d.*u](x)\n",
    "nothing # hide"
   ],
   "metadata": {},
   "execution_count": null
  },
  {
   "cell_type": "markdown",
   "source": [
    "To visualize the solution using Gmsh, let's query it at the triangle vertices  in $\\Omega$"
   ],
   "metadata": {}
  },
  {
   "outputs": [],
   "cell_type": "code",
   "source": [
    "solₕ_nodes = Inti.quadrature_to_node_vals(Ωₕ_quad, real(-u))\n",
    "\n",
    "gmsh.initialize()\n",
    "Inti.write_gmsh_model(msh)\n",
    "Inti.write_gmsh_view!(Ωₕ, solₕ_nodes; name = \"LS solution\")\n",
    "isinteractive() && gmsh.fltk.run()\n",
    "gmsh.finalize()\n",
    "nothing # hide"
   ],
   "metadata": {},
   "execution_count": null
  },
  {
   "cell_type": "markdown",
   "source": [
    "---\n",
    "\n",
    "*This notebook was generated using [Literate.jl](https://github.com/fredrikekre/Literate.jl).*"
   ],
   "metadata": {}
  }
 ],
 "nbformat_minor": 3,
 "metadata": {
  "language_info": {
   "file_extension": ".jl",
   "mimetype": "application/julia",
   "name": "julia",
   "version": "1.10.4"
  },
  "kernelspec": {
   "name": "julia-1.10",
   "display_name": "Julia 1.10.4",
   "language": "julia"
  }
 },
 "nbformat": 4
}
