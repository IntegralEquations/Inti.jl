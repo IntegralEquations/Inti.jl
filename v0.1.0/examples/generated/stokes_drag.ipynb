{
 "cells": [
  {
   "outputs": [],
   "cell_type": "code",
   "source": [
    "# Environment setup\n",
    "const DEPENDENCIES = [\"Gmsh\", \"LinearAlgebra\", \"StaticArrays\"];\n",
    "import Pkg\n",
    "Pkg.activate(temp=true)\n",
    "Pkg.add(url=\"https://github.com/IntegralEquations/Inti.jl\", rev=\"c0f6a50b9f5c3dafffe5af20cbf6a0e5246e0a8c\")\n",
    "foreach(Pkg.add, DEPENDENCIES)"
   ],
   "metadata": {},
   "execution_count": null
  },
  {
   "cell_type": "markdown",
   "source": [
    "# Stokes drag"
   ],
   "metadata": {}
  },
  {
   "cell_type": "markdown",
   "source": [
    "!!! note \"Important points covered in this example\"\n",
    "    - Solving a vector-value problem\n",
    "    - Usage of curved triangular mesh\n",
    "    - Post-processing integral quantities"
   ],
   "metadata": {}
  },
  {
   "outputs": [],
   "cell_type": "code",
   "source": [
    "tinit = time() # hide\n",
    "\n",
    "using Inti\n",
    "using StaticArrays\n",
    "using LinearAlgebra\n",
    "using Gmsh"
   ],
   "metadata": {},
   "execution_count": null
  },
  {
   "cell_type": "markdown",
   "source": [
    "parameters"
   ],
   "metadata": {}
  },
  {
   "outputs": [],
   "cell_type": "code",
   "source": [
    "μ = 2.0\n",
    "R = 2.0\n",
    "v = 2.0"
   ],
   "metadata": {},
   "execution_count": null
  },
  {
   "cell_type": "markdown",
   "source": [
    "create a sphere using gmsh"
   ],
   "metadata": {}
  },
  {
   "outputs": [],
   "cell_type": "code",
   "source": [
    "msh_file = joinpath(tempdir(), \"stokes-drag.msh\")\n",
    "gmsh.initialize()\n",
    "gmsh.model.add(\"stokes-drag\")"
   ],
   "metadata": {},
   "execution_count": null
  },
  {
   "cell_type": "markdown",
   "source": [
    "set verbosity level to 0"
   ],
   "metadata": {}
  },
  {
   "outputs": [],
   "cell_type": "code",
   "source": [
    "gmsh.option.setNumber(\"General.Verbosity\", 2)"
   ],
   "metadata": {},
   "execution_count": null
  },
  {
   "cell_type": "markdown",
   "source": [
    "set max and min meshsize to meshsize"
   ],
   "metadata": {}
  },
  {
   "outputs": [],
   "cell_type": "code",
   "source": [
    "meshsize = 1.0\n",
    "gmsh.option.setNumber(\"Mesh.MeshSizeMax\", meshsize)\n",
    "gmsh.model.occ.addSphere(0, 0, 0, R)\n",
    "gmsh.model.occ.synchronize()\n",
    "gmsh.model.mesh.generate(2)\n",
    "gmsh.model.mesh.setOrder(2)\n",
    "gmsh.write(msh_file)\n",
    "gmsh.finalize()\n",
    "\n",
    "# import the geometry and mesh\n",
    "Inti.clear_entities!()\n",
    "msh = Inti.import_mesh(msh_file)\n",
    "Ω = Inti.Domain(e -> Inti.geometric_dimension(e) == 3, Inti.entities(msh))\n",
    "Γ = Inti.boundary(Ω)\n",
    "\n",
    "# create a quadrature\n",
    "Γ_msh = view(msh, Γ)\n",
    "Q = Inti.Quadrature(Γ_msh; qorder = 2)\n",
    "\n",
    "# check error in surface area\n",
    "@show length(Q)\n",
    "@show abs(Inti.integrate(x -> 1, Q) - 4π * R^2)\n",
    "\n",
    "# the pde and its integral kernels\n",
    "pde = Inti.Stokes(; dim = 3, μ)\n",
    "G   = Inti.SingleLayerKernel(pde)\n",
    "dG  = Inti.DoubleLayerKernel(pde)\n",
    "\n",
    "# choice of a integral representation\n",
    "T = SVector{3,Float64}\n",
    "σ = zeros(T, length(Q))\n",
    "𝒮 = Inti.IntegralPotential(G, Q)\n",
    "𝒟 = Inti.IntegralPotential(dG, Q)\n",
    "u = (x) -> 𝒟[σ](x) - 𝒮[σ](x)\n",
    "\n",
    "# Dirichlet trace on Q (constant velocity field)\n",
    "f = map(Q) do q\n",
    "    return T(v, 0.0, 0.0)\n",
    "end\n",
    "\n",
    "Sop = Inti.IntegralOperator(G, Q, Q)\n",
    "Smat = Inti.assemble_matrix(Sop)\n",
    "\n",
    "# integral operators defined on the boundary\n",
    "S, D = Inti.single_double_layer(;\n",
    "    pde,\n",
    "    target = Q,\n",
    "    source = Q,\n",
    "    compression = (method = :none,),\n",
    "    correction = (method = :dim,),\n",
    ")\n",
    "\n",
    "# combining the operators\n",
    "L = I / 2 + D + μ * S\n",
    "\n",
    "# HACK: to solve the resulting system using gmres we need to wrap L so that it\n",
    "# works on scalars\n",
    "using IterativeSolvers, LinearMaps\n",
    "\n",
    "L_ = LinearMap{Float64}(3 * size(L, 1)) do y, x\n",
    "    σ = reinterpret(T, x)\n",
    "    μ = reinterpret(T, y)\n",
    "    mul!(μ, L, σ)\n",
    "    return y\n",
    "end\n",
    "\n",
    "σ_ = reinterpret(Float64, σ)\n",
    "f_ = reinterpret(Float64, f)\n",
    "\n",
    "_, hist = gmres!(σ_, L_, f_; abstol = 1e-8, maxiter = 200, restart = 200, log = true)\n",
    "\n",
    "@show hist\n",
    "\n",
    "# F = ∫ σ dS\n",
    "drag = μ * sum(eachindex(Q)) do i\n",
    "    return σ[i] * Q[i].weight\n",
    "end\n",
    "\n",
    "exact = 6π * μ * R * v\n",
    "\n",
    "@show (norm(drag) - exact) / exact"
   ],
   "metadata": {},
   "execution_count": null
  },
  {
   "outputs": [],
   "cell_type": "code",
   "source": [
    "tend = time() # hide\n",
    "@info \"Example completed in $(tend - tinit) seconds\" # hide"
   ],
   "metadata": {},
   "execution_count": null
  },
  {
   "cell_type": "markdown",
   "source": [
    "---\n",
    "\n",
    "*This notebook was generated using [Literate.jl](https://github.com/fredrikekre/Literate.jl).*"
   ],
   "metadata": {}
  }
 ],
 "nbformat_minor": 3,
 "metadata": {
  "language_info": {
   "file_extension": ".jl",
   "mimetype": "application/julia",
   "name": "julia",
   "version": "1.10.4"
  },
  "kernelspec": {
   "name": "julia-1.10",
   "display_name": "Julia 1.10.4",
   "language": "julia"
  }
 },
 "nbformat": 4
}
