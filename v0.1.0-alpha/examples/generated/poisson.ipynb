{
 "cells": [
  {
   "outputs": [],
   "cell_type": "code",
   "source": [
    "# Environment setup\n",
    "const DEPENDENCIES = [\"CairoMakie\", \"Gmsh\", \"HMatrices\", \"IterativeSolvers\",\"LinearAlgebra\", \"LinearMaps\", \"SpecialFunctions\", \"GSL\", \"FMM3D\", \"FMM2D\", \"Meshes\"];\n",
    "import Pkg\n",
    "Pkg.activate(temp=true)\n",
    "Pkg.add(url=\"https://github.com/IntegralEquations/Inti.jl\", rev=\"87f74e26e893ee275eb676e10a6470bf9aad9a48\")\n",
    "foreach(Pkg.add, DEPENDENCIES)"
   ],
   "metadata": {},
   "execution_count": null
  },
  {
   "cell_type": "markdown",
   "source": [
    "# Poisson solver"
   ],
   "metadata": {}
  },
  {
   "cell_type": "markdown",
   "source": [
    "!!! note \"Important points covered in this example\"\n",
    "      - Solving a volumetric problem\n",
    "      - Using the method of manufactured solutions\n",
    "      - ..."
   ],
   "metadata": {}
  },
  {
   "outputs": [],
   "cell_type": "code",
   "source": [
    "using Inti"
   ],
   "metadata": {},
   "execution_count": null
  },
  {
   "cell_type": "markdown",
   "source": [
    "## Problem definition"
   ],
   "metadata": {}
  },
  {
   "cell_type": "markdown",
   "source": [
    "In this example we will solve the Poisson equation in a domain $\\Omega$ with\n",
    "Dirichlet boundary conditions on $\\Gamma := \\partial \\Omega$:\n",
    "$$\n",
    "  \\begin{align}\n",
    "      \\Delta u &= f  \\quad \\text{in } \\Omega \\\\\n",
    "      u &= g  \\quad \\text{on } \\partial \\Gamma\n",
    "  \\end{align}\n",
    "$$\n",
    "where $f : \\Omega \\to \\mathbb{R}$ and $g : \\Gamma \\to \\mathbb{R}$ are given\n",
    "functions.\n",
    "\n",
    "Seeking for a solution $u$ of the form ..."
   ],
   "metadata": {}
  },
  {
   "outputs": [],
   "cell_type": "code",
   "source": [
    "meshsize = 0.1"
   ],
   "metadata": {},
   "execution_count": null
  },
  {
   "cell_type": "markdown",
   "source": [
    "`n` in the VDIM paper"
   ],
   "metadata": {}
  },
  {
   "outputs": [],
   "cell_type": "code",
   "source": [
    "interpolation_order = 3\n",
    "qorder = Inti.Triangle_VR_interpolation_order_to_quadrature_order(interpolation_order)\n",
    "nothing #hide"
   ],
   "metadata": {},
   "execution_count": null
  },
  {
   "cell_type": "markdown",
   "source": [
    "## Meshing"
   ],
   "metadata": {}
  },
  {
   "cell_type": "markdown",
   "source": [
    "We now create the required meshes and quadratures for both $\\Omega$ and $\\Gamma$:"
   ],
   "metadata": {}
  },
  {
   "outputs": [],
   "cell_type": "code",
   "source": [
    "using Gmsh # this will trigger the loading of Inti's Gmsh extension\n",
    "\n",
    "function gmsh_disk(; name, meshsize, order = 1, center = (0, 0), paxis = (2, 1))\n",
    "    try\n",
    "        gmsh.initialize()\n",
    "        gmsh.option.setNumber(\"General.Terminal\", 0)\n",
    "        gmsh.model.add(\"circle-mesh\")\n",
    "        gmsh.option.setNumber(\"Mesh.MeshSizeMax\", meshsize)\n",
    "        gmsh.option.setNumber(\"Mesh.MeshSizeMin\", meshsize)\n",
    "        gmsh.model.occ.addDisk(center[1], center[2], 0, paxis[1], paxis[2])\n",
    "        gmsh.model.occ.synchronize()\n",
    "        gmsh.model.mesh.generate(2)\n",
    "        gmsh.model.mesh.setOrder(order)\n",
    "        gmsh.write(name)\n",
    "    finally\n",
    "        gmsh.finalize()\n",
    "    end\n",
    "end\n",
    "\n",
    "name = joinpath(@__DIR__, \"disk.msh\")\n",
    "gmsh_disk(; meshsize, order = 2, name)\n",
    "\n",
    "Inti.clear_entities!() # empty the entity cache\n",
    "msh = Inti.import_mesh(name; dim = 2)\n",
    "Ω = Inti.Domain(e -> Inti.geometric_dimension(e) == 2, Inti.entities(msh))\n",
    "Γ = Inti.boundary(Ω)\n",
    "\n",
    "Ωₕ = view(msh, Ω)\n",
    "Γₕ = view(msh, Γ)"
   ],
   "metadata": {},
   "execution_count": null
  },
  {
   "cell_type": "markdown",
   "source": [
    "Use VDIM with the Vioreanu-Rokhlin quadrature rule"
   ],
   "metadata": {}
  },
  {
   "outputs": [],
   "cell_type": "code",
   "source": [
    "Q = Inti.VioreanuRokhlin(; domain = :triangle, order = qorder);\n",
    "dict = Dict(E => Q for E in Inti.element_types(Ωₕ))\n",
    "Ωₕ_quad = Inti.Quadrature(Ωₕ, dict)\n",
    "Γₕ_quad = Inti.Quadrature(Γₕ; qorder)"
   ],
   "metadata": {},
   "execution_count": null
  },
  {
   "cell_type": "markdown",
   "source": [
    "## Manufactured solution"
   ],
   "metadata": {}
  },
  {
   "cell_type": "markdown",
   "source": [
    "For the purpose of comparing our numerical results to an exact solution, we\n",
    "will use the method of manufactured solutions. For simplicity, we will take as\n",
    "an exact solution"
   ],
   "metadata": {}
  },
  {
   "outputs": [],
   "cell_type": "code",
   "source": [
    "uₑ = (x) -> cos(2 * x[1]) * sin(2 * x[2])"
   ],
   "metadata": {},
   "execution_count": null
  },
  {
   "cell_type": "markdown",
   "source": [
    "which yields"
   ],
   "metadata": {}
  },
  {
   "outputs": [],
   "cell_type": "code",
   "source": [
    "fₑ = (x) -> -8 * uₑ(x)"
   ],
   "metadata": {},
   "execution_count": null
  },
  {
   "cell_type": "markdown",
   "source": [
    "Here is what the solution looks like:\n",
    "qvals = map(Ωₕ_quad) do q\n",
    "    return uₑ(q.coords)\n",
    "end"
   ],
   "metadata": {}
  },
  {
   "cell_type": "markdown",
   "source": [
    "ivals = Inti.quadrature_to_node_vals(Ωₕ_quad, qvals)"
   ],
   "metadata": {}
  },
  {
   "cell_type": "markdown",
   "source": [
    "er = ivals - uₑ.(Ωₕ_quad.mesh.nodes)\n",
    "norm(er,Inf)\n",
    "Inti.write_gmsh_view(Ωₕ, uₑ.(Ωₕ.nodes))"
   ],
   "metadata": {}
  },
  {
   "cell_type": "markdown",
   "source": [
    "## Boundary and integral operators"
   ],
   "metadata": {}
  },
  {
   "outputs": [],
   "cell_type": "code",
   "source": [
    "using FMM2D\n",
    "\n",
    "pde = Inti.Laplace(; dim = 2)\n",
    "\n",
    "# Boundary operators\n",
    "S_b2b, D_b2b = Inti.single_double_layer(;\n",
    "    pde,\n",
    "    target = Γₕ_quad,\n",
    "    source = Γₕ_quad,\n",
    "    compression = (method = :fmm, tol = 1e-12),\n",
    "    correction = (method = :dim,),\n",
    ")\n",
    "S_b2d, D_b2d = Inti.single_double_layer(;\n",
    "    pde,\n",
    "    target = Ωₕ_quad,\n",
    "    source = Γₕ_quad,\n",
    "    compression = (method = :fmm, tol = 1e-12),\n",
    "    correction = (method = :dim, maxdist = 5 * meshsize, target_location = :inside),\n",
    ")\n",
    "\n",
    "# Volume potentials\n",
    "V_d2d = Inti.volume_potential(;\n",
    "    pde,\n",
    "    target = Ωₕ_quad,\n",
    "    source = Ωₕ_quad,\n",
    "    compression = (method = :fmm, tol = 1e-12),\n",
    "    correction = (method = :dim, interpolation_order),\n",
    ")\n",
    "V_d2b = Inti.volume_potential(;\n",
    "    pde,\n",
    "    target = Γₕ_quad,\n",
    "    source = Ωₕ_quad,\n",
    "    compression = (method = :fmm, tol = 1e-12),\n",
    "    correction = (\n",
    "        method = :dim,\n",
    "        maxdist = 5 * meshsize,\n",
    "        interpolation_order,\n",
    "        target_location = :on,\n",
    "    ),\n",
    ")"
   ],
   "metadata": {},
   "execution_count": null
  },
  {
   "cell_type": "markdown",
   "source": [
    "We can now solve a BIE for the unknown density $\\sigma$:"
   ],
   "metadata": {}
  },
  {
   "outputs": [],
   "cell_type": "code",
   "source": [
    "f = map(Ωₕ_quad) do q\n",
    "    return fₑ(q.coords)\n",
    "end\n",
    "g = map(Γₕ_quad) do q\n",
    "    return uₑ(q.coords)\n",
    "end\n",
    "rhs = V_d2b * f + g\n",
    "\n",
    "using LinearAlgebra\n",
    "L = -I / 2 + D_b2b"
   ],
   "metadata": {},
   "execution_count": null
  },
  {
   "cell_type": "markdown",
   "source": [
    "If `compression=none` or `compresion=hmatrix` is used above for constructing `D_b2b`, we could alternately use dense linear algebra:"
   ],
   "metadata": {}
  },
  {
   "outputs": [],
   "cell_type": "code",
   "source": [
    "#F = lu(L)\n",
    "#σ = F \\ rhs\n",
    "\n",
    "using IterativeSolvers\n",
    "σ, hist =\n",
    "    gmres(L, rhs; log = true, abstol = 1e-10, verbose = false, restart = 100, maxiter = 100)\n",
    "@show hist"
   ],
   "metadata": {},
   "execution_count": null
  },
  {
   "cell_type": "markdown",
   "source": [
    "To check the solution, lets evaluate it at the nodes $\\Omega$"
   ],
   "metadata": {}
  },
  {
   "outputs": [],
   "cell_type": "code",
   "source": [
    "uₕ_quad = -(V_d2d * f) + D_b2d * σ\n",
    "uₑ_quad = map(q -> uₑ(q.coords), Ωₕ_quad)\n",
    "er = abs.(uₕ_quad - uₑ_quad)\n",
    "@assert norm(er) < 1e-5 #hide\n",
    "@show norm(er, Inf)"
   ],
   "metadata": {},
   "execution_count": null
  },
  {
   "cell_type": "markdown",
   "source": [
    "## Visualize the solution error using Gmsh"
   ],
   "metadata": {}
  },
  {
   "outputs": [],
   "cell_type": "code",
   "source": [
    "er_nodes = Inti.quadrature_to_node_vals(Ωₕ_quad, er)\n",
    "uₕ_nodes = Inti.quadrature_to_node_vals(Ωₕ_quad, uₕ_quad)\n",
    "\n",
    "using GLMakie, Meshes\n",
    "fig = Figure(; size = (1200, 400))\n",
    "ax1 = Axis(fig[1, 1]; aspect = DataAspect(), title = \"solution\")\n",
    "colorrange = extrema(uₕ_nodes)\n",
    "viz!(Ωₕ; showsegments = true, color = uₕ_nodes, colorrange)\n",
    "Colorbar(fig[1, 2]; colorrange = colorrange)\n",
    "ax2 = Axis(fig[1, 3]; aspect = DataAspect(), title = \"error\")\n",
    "colorrange = extrema(er_nodes)\n",
    "viz!(Ωₕ; showsegments = false, color = er_nodes, colorrange)\n",
    "Colorbar(fig[1, 4]; colorrange = colorrange)\n",
    "fig"
   ],
   "metadata": {},
   "execution_count": null
  },
  {
   "cell_type": "markdown",
   "source": [
    "---\n",
    "\n",
    "*This notebook was generated using [Literate.jl](https://github.com/fredrikekre/Literate.jl).*"
   ],
   "metadata": {}
  }
 ],
 "nbformat_minor": 3,
 "metadata": {
  "language_info": {
   "file_extension": ".jl",
   "mimetype": "application/julia",
   "name": "julia",
   "version": "1.10.4"
  },
  "kernelspec": {
   "name": "julia-1.10",
   "display_name": "Julia 1.10.4",
   "language": "julia"
  }
 },
 "nbformat": 4
}
